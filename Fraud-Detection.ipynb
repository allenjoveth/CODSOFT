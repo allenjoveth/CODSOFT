{
 "cells": [
  {
   "cell_type": "code",
   "execution_count": 1,
   "id": "10c127ed",
   "metadata": {},
   "outputs": [],
   "source": [
    "import numpy as np\n",
    "import pandas as pd\n",
    "import matplotlib.pyplot as plt\n",
    "from sklearn.preprocessing import LabelEncoder\n",
    "from sklearn.model_selection import train_test_split\n",
    "from sklearn.linear_model import LogisticRegression\n",
    "from sklearn.tree import DecisionTreeClassifier\n",
    "from sklearn.ensemble import RandomForestClassifier\n",
    "from sklearn.metrics import accuracy_score, classification_report\n",
    "import warnings\n",
    "\n",
    "warnings.filterwarnings('ignore')"
   ]
  },
  {
   "cell_type": "code",
   "execution_count": 2,
   "id": "d50affb2",
   "metadata": {},
   "outputs": [],
   "source": [
    "# Load the data\n",
    "train_data = pd.read_csv('fraudTrain.csv')\n",
    "test_data = pd.read_csv('fraudTest.csv')"
   ]
  },
  {
   "cell_type": "code",
   "execution_count": 3,
   "id": "edd08929",
   "metadata": {},
   "outputs": [
    {
     "name": "stdout",
     "output_type": "stream",
     "text": [
      "<class 'pandas.core.frame.DataFrame'>\n",
      "RangeIndex: 1296675 entries, 0 to 1296674\n",
      "Data columns (total 23 columns):\n",
      " #   Column                 Non-Null Count    Dtype  \n",
      "---  ------                 --------------    -----  \n",
      " 0   Unnamed: 0             1296675 non-null  int64  \n",
      " 1   trans_date_trans_time  1296675 non-null  object \n",
      " 2   cc_num                 1296675 non-null  int64  \n",
      " 3   merchant               1296675 non-null  object \n",
      " 4   category               1296675 non-null  object \n",
      " 5   amt                    1296675 non-null  float64\n",
      " 6   first                  1296675 non-null  object \n",
      " 7   last                   1296675 non-null  object \n",
      " 8   gender                 1296675 non-null  object \n",
      " 9   street                 1296675 non-null  object \n",
      " 10  city                   1296675 non-null  object \n",
      " 11  state                  1296675 non-null  object \n",
      " 12  zip                    1296675 non-null  int64  \n",
      " 13  lat                    1296675 non-null  float64\n",
      " 14  long                   1296675 non-null  float64\n",
      " 15  city_pop               1296675 non-null  int64  \n",
      " 16  job                    1296675 non-null  object \n",
      " 17  dob                    1296675 non-null  object \n",
      " 18  trans_num              1296675 non-null  object \n",
      " 19  unix_time              1296675 non-null  int64  \n",
      " 20  merch_lat              1296675 non-null  float64\n",
      " 21  merch_long             1296675 non-null  float64\n",
      " 22  is_fraud               1296675 non-null  int64  \n",
      "dtypes: float64(5), int64(6), object(12)\n",
      "memory usage: 227.5+ MB\n"
     ]
    }
   ],
   "source": [
    "# Check the structure and info of the data\n",
    "train_data.info()"
   ]
  },
  {
   "cell_type": "code",
   "execution_count": 4,
   "id": "d4f8c4bc",
   "metadata": {},
   "outputs": [
    {
     "name": "stdout",
     "output_type": "stream",
     "text": [
      "Unnamed: 0               0\n",
      "trans_date_trans_time    0\n",
      "cc_num                   0\n",
      "merchant                 0\n",
      "category                 0\n",
      "amt                      0\n",
      "first                    0\n",
      "last                     0\n",
      "gender                   0\n",
      "street                   0\n",
      "city                     0\n",
      "state                    0\n",
      "zip                      0\n",
      "lat                      0\n",
      "long                     0\n",
      "city_pop                 0\n",
      "job                      0\n",
      "dob                      0\n",
      "trans_num                0\n",
      "unix_time                0\n",
      "merch_lat                0\n",
      "merch_long               0\n",
      "is_fraud                 0\n",
      "dtype: int64\n"
     ]
    }
   ],
   "source": [
    "# Check for missing values in the training dataset\n",
    "print(train_data.isnull().sum())"
   ]
  },
  {
   "cell_type": "code",
   "execution_count": 5,
   "id": "1da0f457",
   "metadata": {},
   "outputs": [
    {
     "name": "stdout",
     "output_type": "stream",
     "text": [
      "   Unnamed: 0 trans_date_trans_time            cc_num  \\\n",
      "0           0   2019-01-01 00:00:18  2703186189652095   \n",
      "1           1   2019-01-01 00:00:44      630423337322   \n",
      "2           2   2019-01-01 00:00:51    38859492057661   \n",
      "\n",
      "                          merchant       category     amt      first     last  \\\n",
      "0       fraud_Rippin, Kub and Mann       misc_net    4.97   Jennifer    Banks   \n",
      "1  fraud_Heller, Gutmann and Zieme    grocery_pos  107.23  Stephanie     Gill   \n",
      "2             fraud_Lind-Buckridge  entertainment  220.11     Edward  Sanchez   \n",
      "\n",
      "  gender                        street  ...      lat      long  city_pop  \\\n",
      "0      F                561 Perry Cove  ...  36.0788  -81.1781      3495   \n",
      "1      F  43039 Riley Greens Suite 393  ...  48.8878 -118.2105       149   \n",
      "2      M      594 White Dale Suite 530  ...  42.1808 -112.2620      4154   \n",
      "\n",
      "                                 job         dob  \\\n",
      "0          Psychologist, counselling  1988-03-09   \n",
      "1  Special educational needs teacher  1978-06-21   \n",
      "2        Nature conservation officer  1962-01-19   \n",
      "\n",
      "                          trans_num   unix_time  merch_lat  merch_long  \\\n",
      "0  0b242abb623afc578575680df30655b9  1325376018  36.011293  -82.048315   \n",
      "1  1f76529f8574734946361c461b024d99  1325376044  49.159047 -118.186462   \n",
      "2  a1a22d70485983eac12b5b88dad1cf95  1325376051  43.150704 -112.154481   \n",
      "\n",
      "   is_fraud  \n",
      "0         0  \n",
      "1         0  \n",
      "2         0  \n",
      "\n",
      "[3 rows x 23 columns]\n"
     ]
    }
   ],
   "source": [
    "# Preview the first few rows of training data\n",
    "print(train_data.head(3))"
   ]
  },
  {
   "cell_type": "code",
   "execution_count": 6,
   "id": "f4d52141",
   "metadata": {},
   "outputs": [
    {
     "name": "stdout",
     "output_type": "stream",
     "text": [
      "<class 'pandas.core.frame.DataFrame'>\n",
      "RangeIndex: 555719 entries, 0 to 555718\n",
      "Data columns (total 23 columns):\n",
      " #   Column                 Non-Null Count   Dtype  \n",
      "---  ------                 --------------   -----  \n",
      " 0   Unnamed: 0             555719 non-null  int64  \n",
      " 1   trans_date_trans_time  555719 non-null  object \n",
      " 2   cc_num                 555719 non-null  int64  \n",
      " 3   merchant               555719 non-null  object \n",
      " 4   category               555719 non-null  object \n",
      " 5   amt                    555719 non-null  float64\n",
      " 6   first                  555719 non-null  object \n",
      " 7   last                   555719 non-null  object \n",
      " 8   gender                 555719 non-null  object \n",
      " 9   street                 555719 non-null  object \n",
      " 10  city                   555719 non-null  object \n",
      " 11  state                  555719 non-null  object \n",
      " 12  zip                    555719 non-null  int64  \n",
      " 13  lat                    555719 non-null  float64\n",
      " 14  long                   555719 non-null  float64\n",
      " 15  city_pop               555719 non-null  int64  \n",
      " 16  job                    555719 non-null  object \n",
      " 17  dob                    555719 non-null  object \n",
      " 18  trans_num              555719 non-null  object \n",
      " 19  unix_time              555719 non-null  int64  \n",
      " 20  merch_lat              555719 non-null  float64\n",
      " 21  merch_long             555719 non-null  float64\n",
      " 22  is_fraud               555719 non-null  int64  \n",
      "dtypes: float64(5), int64(6), object(12)\n",
      "memory usage: 97.5+ MB\n",
      "Unnamed: 0               0\n",
      "trans_date_trans_time    0\n",
      "cc_num                   0\n",
      "merchant                 0\n",
      "category                 0\n",
      "amt                      0\n",
      "first                    0\n",
      "last                     0\n",
      "gender                   0\n",
      "street                   0\n",
      "city                     0\n",
      "state                    0\n",
      "zip                      0\n",
      "lat                      0\n",
      "long                     0\n",
      "city_pop                 0\n",
      "job                      0\n",
      "dob                      0\n",
      "trans_num                0\n",
      "unix_time                0\n",
      "merch_lat                0\n",
      "merch_long               0\n",
      "is_fraud                 0\n",
      "dtype: int64\n",
      "   Unnamed: 0 trans_date_trans_time            cc_num  \\\n",
      "0           0   2020-06-21 12:14:25  2291163933867244   \n",
      "1           1   2020-06-21 12:14:33  3573030041201292   \n",
      "2           2   2020-06-21 12:14:53  3598215285024754   \n",
      "\n",
      "                               merchant        category    amt   first  \\\n",
      "0                 fraud_Kirlin and Sons   personal_care   2.86    Jeff   \n",
      "1                  fraud_Sporer-Keebler   personal_care  29.84  Joanne   \n",
      "2  fraud_Swaniawski, Nitzsche and Welch  health_fitness  41.28  Ashley   \n",
      "\n",
      "       last gender                street  ...      lat      long  city_pop  \\\n",
      "0   Elliott      M     351 Darlene Green  ...  33.9659  -80.9355    333497   \n",
      "1  Williams      F      3638 Marsh Union  ...  40.3207 -110.4360       302   \n",
      "2     Lopez      F  9333 Valentine Point  ...  40.6729  -73.5365     34496   \n",
      "\n",
      "                      job         dob                         trans_num  \\\n",
      "0     Mechanical engineer  1968-03-19  2da90c7d74bd46a0caf3777415b3ebd3   \n",
      "1  Sales professional, IT  1990-01-17  324cc204407e99f51b0d6ca0055005e7   \n",
      "2       Librarian, public  1970-10-21  c81755dbbbea9d5c77f094348a7579be   \n",
      "\n",
      "    unix_time  merch_lat  merch_long  is_fraud  \n",
      "0  1371816865  33.986391  -81.200714         0  \n",
      "1  1371816873  39.450498 -109.960431         0  \n",
      "2  1371816893  40.495810  -74.196111         0  \n",
      "\n",
      "[3 rows x 23 columns]\n"
     ]
    }
   ],
   "source": [
    "# Checking the test data structure and null values\n",
    "test_data.info()\n",
    "print(test_data.isnull().sum())\n",
    "print(test_data.head(3))"
   ]
  },
  {
   "cell_type": "code",
   "execution_count": 7,
   "id": "bb421ef4",
   "metadata": {},
   "outputs": [],
   "source": [
    "# Merging training and test data\n",
    "combined_data = pd.concat([train_data, test_data])"
   ]
  },
  {
   "cell_type": "code",
   "execution_count": 8,
   "id": "f5a96672",
   "metadata": {},
   "outputs": [
    {
     "name": "stdout",
     "output_type": "stream",
     "text": [
      "(1852394, 23)\n"
     ]
    }
   ],
   "source": [
    "# Checking the shape of the combined data\n",
    "print(combined_data.shape)"
   ]
  },
  {
   "cell_type": "code",
   "execution_count": 9,
   "id": "f5a0a106",
   "metadata": {},
   "outputs": [
    {
     "name": "stdout",
     "output_type": "stream",
     "text": [
      "{'Unnamed: 0': 0.0005238292595403058, 'cc_num': -0.0011247864091594485, 'amt': 0.2093078472297204, 'zip': -0.002190364119647334, 'lat': 0.002903941085080607, 'long': 0.0010217606338494797, 'city_pop': 0.00032519441062586795, 'unix_time': -0.013328789485514903, 'merch_lat': 0.002777992413388992, 'merch_long': 0.0009994134859691098}\n"
     ]
    }
   ],
   "source": [
    "# Correlation with target variable 'is_fraud'\n",
    "correlations = {}\n",
    "for col in combined_data.columns:\n",
    "    if combined_data[col].dtype != 'object' and col != 'is_fraud':\n",
    "        correlations[col] = combined_data[col].corr(combined_data['is_fraud'])\n",
    "\n",
    "print(correlations)"
   ]
  },
  {
   "cell_type": "code",
   "execution_count": 10,
   "id": "4ff427b2",
   "metadata": {},
   "outputs": [],
   "source": [
    "# Dropping unnecessary columns for prediction\n",
    "columns_to_drop = ['Unnamed: 0', 'trans_date_trans_time', 'first', 'last', 'gender', 'street', 'job', 'dob', 'trans_num']\n",
    "combined_data.drop(columns=columns_to_drop, inplace=True)"
   ]
  },
  {
   "cell_type": "code",
   "execution_count": 11,
   "id": "8c6c5662",
   "metadata": {},
   "outputs": [
    {
     "name": "stdout",
     "output_type": "stream",
     "text": [
      "<class 'pandas.core.frame.DataFrame'>\n",
      "Int64Index: 1852394 entries, 0 to 555718\n",
      "Data columns (total 14 columns):\n",
      " #   Column      Dtype  \n",
      "---  ------      -----  \n",
      " 0   cc_num      int64  \n",
      " 1   merchant    object \n",
      " 2   category    object \n",
      " 3   amt         float64\n",
      " 4   city        object \n",
      " 5   state       object \n",
      " 6   zip         int64  \n",
      " 7   lat         float64\n",
      " 8   long        float64\n",
      " 9   city_pop    int64  \n",
      " 10  unix_time   int64  \n",
      " 11  merch_lat   float64\n",
      " 12  merch_long  float64\n",
      " 13  is_fraud    int64  \n",
      "dtypes: float64(5), int64(5), object(4)\n",
      "memory usage: 212.0+ MB\n",
      "None\n"
     ]
    }
   ],
   "source": [
    "# Check if the necessary columns are left\n",
    "print(combined_data.info())"
   ]
  },
  {
   "cell_type": "code",
   "execution_count": 12,
   "id": "8c72c757",
   "metadata": {},
   "outputs": [
    {
     "data": {
      "image/png": "[encoded data removed]",
      "text/plain": [
       "<Figure size 640x480 with 1 Axes>"
      ]
     },
     "metadata": {},
     "output_type": "display_data"
    }
   ],
   "source": [
    "# Visualizing the class distribution\n",
    "plt.bar(combined_data['is_fraud'].unique(), combined_data['is_fraud'].value_counts(), width=0.2)\n",
    "plt.xlabel('Legitimate/Fraud')\n",
    "plt.ylabel('Number of Transactions')\n",
    "plt.show()"
   ]
  },
  {
   "cell_type": "code",
   "execution_count": 13,
   "id": "6817b023",
   "metadata": {},
   "outputs": [],
   "source": [
    "# Splitting the data into fraudulent and legitimate transactions\n",
    "legitimate_data = combined_data[combined_data['is_fraud'] == 0]\n",
    "fraud_data = combined_data[combined_data['is_fraud'] == 1]"
   ]
  },
  {
   "cell_type": "code",
   "execution_count": 14,
   "id": "3ff64d8e",
   "metadata": {},
   "outputs": [],
   "source": [
    "# Balancing the data by sampling an equal number of legitimate transactions\n",
    "legitimate_data = legitimate_data.sample(n=len(fraud_data))"
   ]
  },
  {
   "cell_type": "code",
   "execution_count": 15,
   "id": "ec8342e2",
   "metadata": {},
   "outputs": [
    {
     "name": "stdout",
     "output_type": "stream",
     "text": [
      "(9651, 14)\n",
      "(9651, 14)\n"
     ]
    }
   ],
   "source": [
    "# Checking the new shape of both datasets\n",
    "print(legitimate_data.shape)\n",
    "print(fraud_data.shape)"
   ]
  },
  {
   "cell_type": "code",
   "execution_count": 16,
   "id": "741116c2",
   "metadata": {},
   "outputs": [],
   "source": [
    "# Combining balanced data\n",
    "balanced_data = pd.concat([legitimate_data, fraud_data])"
   ]
  },
  {
   "cell_type": "code",
   "execution_count": 17,
   "id": "9e13b43a",
   "metadata": {},
   "outputs": [
    {
     "data": {
      "image/png": "[encoded data removed]",
      "text/plain": [
       "<Figure size 640x480 with 1 Axes>"
      ]
     },
     "metadata": {},
     "output_type": "display_data"
    }
   ],
   "source": [
    "# Visualize the class distribution again after balancing\n",
    "plt.bar(balanced_data['is_fraud'].unique(), balanced_data['is_fraud'].value_counts(), width=0.2)\n",
    "plt.xlabel('Legitimate/Fraud')\n",
    "plt.ylabel('Number of Transactions')\n",
    "plt.show()"
   ]
  },
  {
   "cell_type": "code",
   "execution_count": 18,
   "id": "8e31e55e",
   "metadata": {},
   "outputs": [],
   "source": [
    "# Encoding categorical variables\n",
    "label_encoder = LabelEncoder()\n",
    "balanced_data['merchant'] = label_encoder.fit_transform(balanced_data['merchant'])\n",
    "balanced_data['category'] = label_encoder.fit_transform(balanced_data['category'])\n",
    "balanced_data['city'] = label_encoder.fit_transform(balanced_data['city'])\n",
    "balanced_data['state'] = label_encoder.fit_transform(balanced_data['state'])"
   ]
  },
  {
   "cell_type": "code",
   "execution_count": 19,
   "id": "7b581a72",
   "metadata": {},
   "outputs": [
    {
     "name": "stdout",
     "output_type": "stream",
     "text": [
      "<class 'pandas.core.frame.DataFrame'>\n",
      "Int64Index: 19302 entries, 580973 to 517571\n",
      "Data columns (total 14 columns):\n",
      " #   Column      Non-Null Count  Dtype  \n",
      "---  ------      --------------  -----  \n",
      " 0   cc_num      19302 non-null  int64  \n",
      " 1   merchant    19302 non-null  int32  \n",
      " 2   category    19302 non-null  int32  \n",
      " 3   amt         19302 non-null  float64\n",
      " 4   city        19302 non-null  int32  \n",
      " 5   state       19302 non-null  int32  \n",
      " 6   zip         19302 non-null  int64  \n",
      " 7   lat         19302 non-null  float64\n",
      " 8   long        19302 non-null  float64\n",
      " 9   city_pop    19302 non-null  int64  \n",
      " 10  unix_time   19302 non-null  int64  \n",
      " 11  merch_lat   19302 non-null  float64\n",
      " 12  merch_long  19302 non-null  float64\n",
      " 13  is_fraud    19302 non-null  int64  \n",
      "dtypes: float64(5), int32(4), int64(5)\n",
      "memory usage: 1.9 MB\n",
      "None\n"
     ]
    }
   ],
   "source": [
    "# Ensure all features are now numerical\n",
    "print(balanced_data.info())"
   ]
  },
  {
   "cell_type": "code",
   "execution_count": 20,
   "id": "a90052e7",
   "metadata": {},
   "outputs": [],
   "source": [
    "# Prepare the feature set (X) and target variable (y)\n",
    "X = balanced_data.iloc[:, :-1].values\n",
    "y = balanced_data.iloc[:, -1].values"
   ]
  },
  {
   "cell_type": "code",
   "execution_count": 21,
   "id": "444099ab",
   "metadata": {},
   "outputs": [],
   "source": [
    "# Split the data into training and testing sets\n",
    "X_train, X_test, y_train, y_test = train_test_split(X, y, test_size=0.3, random_state=42, shuffle=True)"
   ]
  },
  {
   "cell_type": "code",
   "execution_count": 23,
   "id": "fdaca56d",
   "metadata": {},
   "outputs": [
    {
     "name": "stdout",
     "output_type": "stream",
     "text": [
      "Logistic Regression - Accuracy on Training Data: 0.5\n",
      "Classification Report:\n",
      "               precision    recall  f1-score   support\n",
      "\n",
      "           0       0.50      1.00      0.67      6756\n",
      "           1       0.00      0.00      0.00      6755\n",
      "\n",
      "    accuracy                           0.50     13511\n",
      "   macro avg       0.25      0.50      0.33     13511\n",
      "weighted avg       0.25      0.50      0.33     13511\n",
      "\n"
     ]
    }
   ],
   "source": [
    "# Logistic Regression\n",
    "logistic_model = LogisticRegression()\n",
    "logistic_model.fit(X_train, y_train)\n",
    "logistic_predictions = logistic_model.predict(X_train)\n",
    "\n",
    "print(\"Logistic Regression - Accuracy on Training Data:\", round(accuracy_score(y_train, logistic_predictions), 3))\n",
    "print(\"Classification Report:\\n\", classification_report(y_train, logistic_predictions))\n"
   ]
  },
  {
   "cell_type": "code",
   "execution_count": 24,
   "id": "289ea46a",
   "metadata": {},
   "outputs": [
    {
     "name": "stdout",
     "output_type": "stream",
     "text": [
      "Decision Tree - Accuracy on Training Data: 1.0\n",
      "Classification Report:\n",
      "               precision    recall  f1-score   support\n",
      "\n",
      "           0       1.00      1.00      1.00      6756\n",
      "           1       1.00      1.00      1.00      6755\n",
      "\n",
      "    accuracy                           1.00     13511\n",
      "   macro avg       1.00      1.00      1.00     13511\n",
      "weighted avg       1.00      1.00      1.00     13511\n",
      "\n"
     ]
    }
   ],
   "source": [
    "# Decision Tree Classifier\n",
    "dt_model = DecisionTreeClassifier()\n",
    "dt_model.fit(X_train, y_train)\n",
    "dt_predictions = dt_model.predict(X_train)\n",
    "\n",
    "print(\"Decision Tree - Accuracy on Training Data:\", round(accuracy_score(y_train, dt_predictions), 3))\n",
    "print(\"Classification Report:\\n\", classification_report(y_train, dt_predictions))\n"
   ]
  },
  {
   "cell_type": "code",
   "execution_count": 25,
   "id": "15d65c5b",
   "metadata": {},
   "outputs": [
    {
     "name": "stdout",
     "output_type": "stream",
     "text": [
      "Random Forest - Accuracy on Training Data: 1.0\n",
      "Classification Report:\n",
      "               precision    recall  f1-score   support\n",
      "\n",
      "           0       1.00      1.00      1.00      6756\n",
      "           1       1.00      1.00      1.00      6755\n",
      "\n",
      "    accuracy                           1.00     13511\n",
      "   macro avg       1.00      1.00      1.00     13511\n",
      "weighted avg       1.00      1.00      1.00     13511\n",
      "\n"
     ]
    }
   ],
   "source": [
    "# Random Forest Classifier\n",
    "rf_model = RandomForestClassifier(n_estimators=50)\n",
    "rf_model.fit(X_train, y_train)\n",
    "rf_predictions = rf_model.predict(X_train)\n",
    "\n",
    "print(\"Random Forest - Accuracy on Training Data:\", round(accuracy_score(y_train, rf_predictions), 3))\n",
    "print(\"Classification Report:\\n\", classification_report(y_train, rf_predictions))"
   ]
  },
  {
   "cell_type": "code",
   "execution_count": 26,
   "id": "2db5725e",
   "metadata": {},
   "outputs": [
    {
     "name": "stdout",
     "output_type": "stream",
     "text": [
      "Logistic Regression - Accuracy on Test Data: 0.5\n",
      "Classification Report:\n",
      "               precision    recall  f1-score   support\n",
      "\n",
      "           0       0.50      1.00      0.67      2895\n",
      "           1       0.00      0.00      0.00      2896\n",
      "\n",
      "    accuracy                           0.50      5791\n",
      "   macro avg       0.25      0.50      0.33      5791\n",
      "weighted avg       0.25      0.50      0.33      5791\n",
      "\n"
     ]
    }
   ],
   "source": [
    "# Evaluating on Test Data\n",
    "test_predictions = logistic_model.predict(X_test)\n",
    "print(\"Logistic Regression - Accuracy on Test Data:\", round(accuracy_score(y_test, test_predictions), 3))\n",
    "print(\"Classification Report:\\n\", classification_report(y_test, test_predictions))\n"
   ]
  },
  {
   "cell_type": "code",
   "execution_count": null,
   "id": "8d1d2796",
   "metadata": {},
   "outputs": [],
   "source": []
  }
 ],
 "metadata": {
  "kernelspec": {
   "display_name": "Python 3 (ipykernel)",
   "language": "python",
   "name": "python3"
  },
  "language_info": {
   "codemirror_mode": {
    "name": "ipython",
    "version": 3
   },
   "file_extension": ".py",
   "mimetype": "text/x-python",
   "name": "python",
   "nbconvert_exporter": "python",
   "pygments_lexer": "ipython3",
   "version": "3.11.3"
  }
 },
 "nbformat": 4,
 "nbformat_minor": 5
}
